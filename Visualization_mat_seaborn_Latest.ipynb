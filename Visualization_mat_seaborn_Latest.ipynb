{
  "nbformat": 4,
  "nbformat_minor": 0,
  "metadata": {
    "colab": {
      "name": "Visualization_mat_seaborn_Latest.ipynb",
      "provenance": [],
      "include_colab_link": true
    },
    "kernelspec": {
      "display_name": "Python 3",
      "language": "python",
      "name": "python3"
    },
    "language_info": {
      "codemirror_mode": {
        "name": "ipython",
        "version": 3
      },
      "file_extension": ".py",
      "mimetype": "text/x-python",
      "name": "python",
      "nbconvert_exporter": "python",
      "pygments_lexer": "ipython3",
      "version": "3.7.4"
    }
  },
  "cells": [
    {
      "cell_type": "markdown",
      "metadata": {
        "id": "view-in-github",
        "colab_type": "text"
      },
      "source": [
        "<a href=\"https://colab.research.google.com/github/prasunpankaj/Pandas_Introduction/blob/main/Visualization_mat_seaborn_Latest.ipynb\" target=\"_parent\"><img src=\"https://colab.research.google.com/assets/colab-badge.svg\" alt=\"Open In Colab\"/></a>"
      ]
    },
    {
      "cell_type": "code",
      "metadata": {
        "id": "QweWdcZ_nZ4D"
      },
      "source": [
        "#install and then import matplotlib\n",
        "import matplotlib.pyplot as plt"
      ],
      "execution_count": 1,
      "outputs": []
    },
    {
      "cell_type": "code",
      "metadata": {
        "id": "8X0Il_f1nZ4I"
      },
      "source": [
        "#matplotlib to render plots in the notebook\n",
        "%matplotlib inline"
      ],
      "execution_count": 2,
      "outputs": []
    },
    {
      "cell_type": "code",
      "metadata": {
        "id": "PAfVoG3xnZ4K"
      },
      "source": [
        "x = [-3, 5, 7]"
      ],
      "execution_count": 3,
      "outputs": []
    },
    {
      "cell_type": "code",
      "metadata": {
        "id": "DYZJI0PfnZ4N"
      },
      "source": [
        "y = [10, 2, 5]"
      ],
      "execution_count": 4,
      "outputs": []
    },
    {
      "cell_type": "code",
      "metadata": {
        "colab": {
          "base_uri": "https://localhost:8080/",
          "height": 228
        },
        "id": "RvqKX6fgBiWU",
        "outputId": "38d26995-3e5b-4760-da1f-ea8c5b83adf8"
      },
      "source": [
        "fig = plt.figure(figsize=(15,3))\r\n",
        "\r\n",
        "plt.plot(x, y)\r\n",
        "plt.xlim(-5, 10)"
      ],
      "execution_count": 5,
      "outputs": [
        {
          "output_type": "execute_result",
          "data": {
            "text/plain": [
              "(-5.0, 10.0)"
            ]
          },
          "metadata": {
            "tags": []
          },
          "execution_count": 5
        },
        {
          "output_type": "display_data",
          "data": {
            "image/png": "[encoded data removed]",
            "text/plain": [
              "<Figure size 1080x216 with 1 Axes>"
            ]
          },
          "metadata": {
            "tags": [],
            "needs_background": "light"
          }
        }
      ]
    },
    {
      "cell_type": "code",
      "metadata": {
        "colab": {
          "base_uri": "https://localhost:8080/",
          "height": 274
        },
        "id": "4ygzI_bznZ4P",
        "outputId": "12d656aa-2f85-4d57-9718-5f534d195dd0"
      },
      "source": [
        "fig = plt.figure(figsize=(15,3))\n",
        "\n",
        "plt.plot(x, y)\n",
        "plt.xlim(0, 10)\n",
        "plt.ylim(-3, 8)\n",
        "plt.xlabel('X Axis')\n",
        "plt.ylabel('Y axis')\n",
        "plt.title('Line Plot')\n",
        "plt.suptitle('Sales Comaprison', size=20, y=1.03)\n"
      ],
      "execution_count": 6,
      "outputs": [
        {
          "output_type": "execute_result",
          "data": {
            "text/plain": [
              "Text(0.5, 1.03, 'Sales Comaprison')"
            ]
          },
          "metadata": {
            "tags": []
          },
          "execution_count": 6
        },
        {
          "output_type": "display_data",
          "data": {
            "image/png": "[encoded data removed]",
            "text/plain": [
              "<Figure size 1080x216 with 1 Axes>"
            ]
          },
          "metadata": {
            "tags": [],
            "needs_background": "light"
          }
        }
      ]
    },
    {
      "cell_type": "code",
      "metadata": {
        "id": "M9YNVwJAnZ4d",
        "colab": {
          "base_uri": "https://localhost:8080/",
          "height": 269
        },
        "outputId": "4a520201-0afe-4169-f916-ef323e0bcd7e"
      },
      "source": [
        "fig, ax = plt.subplots(nrows=1, ncols=1)"
      ],
      "execution_count": 7,
      "outputs": [
        {
          "output_type": "display_data",
          "data": {
            "image/png": "[encoded data removed]",
            "text/plain": [
              "<Figure size 432x288 with 1 Axes>"
            ]
          },
          "metadata": {
            "tags": [],
            "needs_background": "light"
          }
        }
      ]
    },
    {
      "cell_type": "code",
      "metadata": {
        "id": "-oEJCo_knZ4f",
        "colab": {
          "base_uri": "https://localhost:8080/",
          "height": 269
        },
        "outputId": "563d9b38-5f71-4980-a200-f74f646a2bb6"
      },
      "source": [
        "# More than one Axes with plt.subplots, then the second item in the tuple is a NumPy array containing all the Axes\n",
        "fig, axs = plt.subplots(2, 4)"
      ],
      "execution_count": 8,
      "outputs": [
        {
          "output_type": "display_data",
          "data": {
            "image/png": "[encoded data removed]",
            "text/plain": [
              "<Figure size 432x288 with 8 Axes>"
            ]
          },
          "metadata": {
            "tags": [],
            "needs_background": "light"
          }
        }
      ]
    },
    {
      "cell_type": "markdown",
      "metadata": {
        "id": "l-y9Jux9nZ4h"
      },
      "source": [
        "#### Matplotlib"
      ]
    },
    {
      "cell_type": "code",
      "metadata": {
        "id": "LHZI1mpknZ4h",
        "outputId": "e644a52b-3d3f-424d-a3da-7acb738799db",
        "colab": {
          "base_uri": "https://localhost:8080/",
          "height": 409
        }
      },
      "source": [
        "import pandas as pd\n",
        "import numpy as np\n",
        "import matplotlib.pyplot as plt\n",
        "\n",
        "mtcars = pd.read_csv(\"/content/mtcars.csv\")"
      ],
      "execution_count": 9,
      "outputs": [
        {
          "output_type": "error",
          "ename": "FileNotFoundError",
          "evalue": "ignored",
          "traceback": [
            "\u001b[0;31m---------------------------------------------------------------------------\u001b[0m",
            "\u001b[0;31mFileNotFoundError\u001b[0m                         Traceback (most recent call last)",
            "\u001b[0;32m<ipython-input-9-3910b9ec4bb7>\u001b[0m in \u001b[0;36m<module>\u001b[0;34m()\u001b[0m\n\u001b[1;32m      3\u001b[0m \u001b[0;32mimport\u001b[0m \u001b[0mmatplotlib\u001b[0m\u001b[0;34m.\u001b[0m\u001b[0mpyplot\u001b[0m \u001b[0;32mas\u001b[0m \u001b[0mplt\u001b[0m\u001b[0;34m\u001b[0m\u001b[0;34m\u001b[0m\u001b[0m\n\u001b[1;32m      4\u001b[0m \u001b[0;34m\u001b[0m\u001b[0m\n\u001b[0;32m----> 5\u001b[0;31m \u001b[0mmtcars\u001b[0m \u001b[0;34m=\u001b[0m \u001b[0mpd\u001b[0m\u001b[0;34m.\u001b[0m\u001b[0mread_csv\u001b[0m\u001b[0;34m(\u001b[0m\u001b[0;34m\"/content/mtcars.csv\"\u001b[0m\u001b[0;34m)\u001b[0m\u001b[0;34m\u001b[0m\u001b[0;34m\u001b[0m\u001b[0m\n\u001b[0m",
            "\u001b[0;32m/usr/local/lib/python3.6/dist-packages/pandas/io/parsers.py\u001b[0m in \u001b[0;36mread_csv\u001b[0;34m(filepath_or_buffer, sep, delimiter, header, names, index_col, usecols, squeeze, prefix, mangle_dupe_cols, dtype, engine, converters, true_values, false_values, skipinitialspace, skiprows, skipfooter, nrows, na_values, keep_default_na, na_filter, verbose, skip_blank_lines, parse_dates, infer_datetime_format, keep_date_col, date_parser, dayfirst, cache_dates, iterator, chunksize, compression, thousands, decimal, lineterminator, quotechar, quoting, doublequote, escapechar, comment, encoding, dialect, error_bad_lines, warn_bad_lines, delim_whitespace, low_memory, memory_map, float_precision)\u001b[0m\n\u001b[1;32m    686\u001b[0m     )\n\u001b[1;32m    687\u001b[0m \u001b[0;34m\u001b[0m\u001b[0m\n\u001b[0;32m--> 688\u001b[0;31m     \u001b[0;32mreturn\u001b[0m \u001b[0m_read\u001b[0m\u001b[0;34m(\u001b[0m\u001b[0mfilepath_or_buffer\u001b[0m\u001b[0;34m,\u001b[0m \u001b[0mkwds\u001b[0m\u001b[0;34m)\u001b[0m\u001b[0;34m\u001b[0m\u001b[0;34m\u001b[0m\u001b[0m\n\u001b[0m\u001b[1;32m    689\u001b[0m \u001b[0;34m\u001b[0m\u001b[0m\n\u001b[1;32m    690\u001b[0m \u001b[0;34m\u001b[0m\u001b[0m\n",
            "\u001b[0;32m/usr/local/lib/python3.6/dist-packages/pandas/io/parsers.py\u001b[0m in \u001b[0;36m_read\u001b[0;34m(filepath_or_buffer, kwds)\u001b[0m\n\u001b[1;32m    452\u001b[0m \u001b[0;34m\u001b[0m\u001b[0m\n\u001b[1;32m    453\u001b[0m     \u001b[0;31m# Create the parser.\u001b[0m\u001b[0;34m\u001b[0m\u001b[0;34m\u001b[0m\u001b[0;34m\u001b[0m\u001b[0m\n\u001b[0;32m--> 454\u001b[0;31m     \u001b[0mparser\u001b[0m \u001b[0;34m=\u001b[0m \u001b[0mTextFileReader\u001b[0m\u001b[0;34m(\u001b[0m\u001b[0mfp_or_buf\u001b[0m\u001b[0;34m,\u001b[0m \u001b[0;34m**\u001b[0m\u001b[0mkwds\u001b[0m\u001b[0;34m)\u001b[0m\u001b[0;34m\u001b[0m\u001b[0;34m\u001b[0m\u001b[0m\n\u001b[0m\u001b[1;32m    455\u001b[0m \u001b[0;34m\u001b[0m\u001b[0m\n\u001b[1;32m    456\u001b[0m     \u001b[0;32mif\u001b[0m \u001b[0mchunksize\u001b[0m \u001b[0;32mor\u001b[0m \u001b[0miterator\u001b[0m\u001b[0;34m:\u001b[0m\u001b[0;34m\u001b[0m\u001b[0;34m\u001b[0m\u001b[0m\n",
            "\u001b[0;32m/usr/local/lib/python3.6/dist-packages/pandas/io/parsers.py\u001b[0m in \u001b[0;36m__init__\u001b[0;34m(self, f, engine, **kwds)\u001b[0m\n\u001b[1;32m    946\u001b[0m             \u001b[0mself\u001b[0m\u001b[0;34m.\u001b[0m\u001b[0moptions\u001b[0m\u001b[0;34m[\u001b[0m\u001b[0;34m\"has_index_names\"\u001b[0m\u001b[0;34m]\u001b[0m \u001b[0;34m=\u001b[0m \u001b[0mkwds\u001b[0m\u001b[0;34m[\u001b[0m\u001b[0;34m\"has_index_names\"\u001b[0m\u001b[0;34m]\u001b[0m\u001b[0;34m\u001b[0m\u001b[0;34m\u001b[0m\u001b[0m\n\u001b[1;32m    947\u001b[0m \u001b[0;34m\u001b[0m\u001b[0m\n\u001b[0;32m--> 948\u001b[0;31m         \u001b[0mself\u001b[0m\u001b[0;34m.\u001b[0m\u001b[0m_make_engine\u001b[0m\u001b[0;34m(\u001b[0m\u001b[0mself\u001b[0m\u001b[0;34m.\u001b[0m\u001b[0mengine\u001b[0m\u001b[0;34m)\u001b[0m\u001b[0;34m\u001b[0m\u001b[0;34m\u001b[0m\u001b[0m\n\u001b[0m\u001b[1;32m    949\u001b[0m \u001b[0;34m\u001b[0m\u001b[0m\n\u001b[1;32m    950\u001b[0m     \u001b[0;32mdef\u001b[0m \u001b[0mclose\u001b[0m\u001b[0;34m(\u001b[0m\u001b[0mself\u001b[0m\u001b[0;34m)\u001b[0m\u001b[0;34m:\u001b[0m\u001b[0;34m\u001b[0m\u001b[0;34m\u001b[0m\u001b[0m\n",
            "\u001b[0;32m/usr/local/lib/python3.6/dist-packages/pandas/io/parsers.py\u001b[0m in \u001b[0;36m_make_engine\u001b[0;34m(self, engine)\u001b[0m\n\u001b[1;32m   1178\u001b[0m     \u001b[0;32mdef\u001b[0m \u001b[0m_make_engine\u001b[0m\u001b[0;34m(\u001b[0m\u001b[0mself\u001b[0m\u001b[0;34m,\u001b[0m \u001b[0mengine\u001b[0m\u001b[0;34m=\u001b[0m\u001b[0;34m\"c\"\u001b[0m\u001b[0;34m)\u001b[0m\u001b[0;34m:\u001b[0m\u001b[0;34m\u001b[0m\u001b[0;34m\u001b[0m\u001b[0m\n\u001b[1;32m   1179\u001b[0m         \u001b[0;32mif\u001b[0m \u001b[0mengine\u001b[0m \u001b[0;34m==\u001b[0m \u001b[0;34m\"c\"\u001b[0m\u001b[0;34m:\u001b[0m\u001b[0;34m\u001b[0m\u001b[0;34m\u001b[0m\u001b[0m\n\u001b[0;32m-> 1180\u001b[0;31m             \u001b[0mself\u001b[0m\u001b[0;34m.\u001b[0m\u001b[0m_engine\u001b[0m \u001b[0;34m=\u001b[0m \u001b[0mCParserWrapper\u001b[0m\u001b[0;34m(\u001b[0m\u001b[0mself\u001b[0m\u001b[0;34m.\u001b[0m\u001b[0mf\u001b[0m\u001b[0;34m,\u001b[0m \u001b[0;34m**\u001b[0m\u001b[0mself\u001b[0m\u001b[0;34m.\u001b[0m\u001b[0moptions\u001b[0m\u001b[0;34m)\u001b[0m\u001b[0;34m\u001b[0m\u001b[0;34m\u001b[0m\u001b[0m\n\u001b[0m\u001b[1;32m   1181\u001b[0m         \u001b[0;32melse\u001b[0m\u001b[0;34m:\u001b[0m\u001b[0;34m\u001b[0m\u001b[0;34m\u001b[0m\u001b[0m\n\u001b[1;32m   1182\u001b[0m             \u001b[0;32mif\u001b[0m \u001b[0mengine\u001b[0m \u001b[0;34m==\u001b[0m \u001b[0;34m\"python\"\u001b[0m\u001b[0;34m:\u001b[0m\u001b[0;34m\u001b[0m\u001b[0;34m\u001b[0m\u001b[0m\n",
            "\u001b[0;32m/usr/local/lib/python3.6/dist-packages/pandas/io/parsers.py\u001b[0m in \u001b[0;36m__init__\u001b[0;34m(self, src, **kwds)\u001b[0m\n\u001b[1;32m   2008\u001b[0m         \u001b[0mkwds\u001b[0m\u001b[0;34m[\u001b[0m\u001b[0;34m\"usecols\"\u001b[0m\u001b[0;34m]\u001b[0m \u001b[0;34m=\u001b[0m \u001b[0mself\u001b[0m\u001b[0;34m.\u001b[0m\u001b[0musecols\u001b[0m\u001b[0;34m\u001b[0m\u001b[0;34m\u001b[0m\u001b[0m\n\u001b[1;32m   2009\u001b[0m \u001b[0;34m\u001b[0m\u001b[0m\n\u001b[0;32m-> 2010\u001b[0;31m         \u001b[0mself\u001b[0m\u001b[0;34m.\u001b[0m\u001b[0m_reader\u001b[0m \u001b[0;34m=\u001b[0m \u001b[0mparsers\u001b[0m\u001b[0;34m.\u001b[0m\u001b[0mTextReader\u001b[0m\u001b[0;34m(\u001b[0m\u001b[0msrc\u001b[0m\u001b[0;34m,\u001b[0m \u001b[0;34m**\u001b[0m\u001b[0mkwds\u001b[0m\u001b[0;34m)\u001b[0m\u001b[0;34m\u001b[0m\u001b[0;34m\u001b[0m\u001b[0m\n\u001b[0m\u001b[1;32m   2011\u001b[0m         \u001b[0mself\u001b[0m\u001b[0;34m.\u001b[0m\u001b[0munnamed_cols\u001b[0m \u001b[0;34m=\u001b[0m \u001b[0mself\u001b[0m\u001b[0;34m.\u001b[0m\u001b[0m_reader\u001b[0m\u001b[0;34m.\u001b[0m\u001b[0munnamed_cols\u001b[0m\u001b[0;34m\u001b[0m\u001b[0;34m\u001b[0m\u001b[0m\n\u001b[1;32m   2012\u001b[0m \u001b[0;34m\u001b[0m\u001b[0m\n",
            "\u001b[0;32mpandas/_libs/parsers.pyx\u001b[0m in \u001b[0;36mpandas._libs.parsers.TextReader.__cinit__\u001b[0;34m()\u001b[0m\n",
            "\u001b[0;32mpandas/_libs/parsers.pyx\u001b[0m in \u001b[0;36mpandas._libs.parsers.TextReader._setup_parser_source\u001b[0;34m()\u001b[0m\n",
            "\u001b[0;31mFileNotFoundError\u001b[0m: [Errno 2] No such file or directory: '/content/mtcars.csv'"
          ]
        }
      ]
    },
    {
      "cell_type": "code",
      "metadata": {
        "id": "5Z8N7ctAA91J"
      },
      "source": [
        "mtcars.head()"
      ],
      "execution_count": null,
      "outputs": []
    },
    {
      "cell_type": "code",
      "metadata": {
        "id": "lCZ0GKRenZ4p"
      },
      "source": [
        "mtcars.columns"
      ],
      "execution_count": null,
      "outputs": []
    },
    {
      "cell_type": "code",
      "metadata": {
        "id": "5oN2RhqHnZ4r"
      },
      "source": [
        "mtcars.shape"
      ],
      "execution_count": null,
      "outputs": []
    },
    {
      "cell_type": "code",
      "metadata": {
        "id": "q3mmrKLmnZ4t"
      },
      "source": [
        "mtcars.head()"
      ],
      "execution_count": null,
      "outputs": []
    },
    {
      "cell_type": "code",
      "metadata": {
        "id": "WommxAHZnZ4v"
      },
      "source": [
        "# table \n",
        "pd.crosstab(mtcars.gear,mtcars.cyl)"
      ],
      "execution_count": null,
      "outputs": []
    },
    {
      "cell_type": "code",
      "metadata": {
        "id": "gd_GXjZInZ4x"
      },
      "source": [
        "# bar plot between 2 different categories \n",
        "pd.crosstab(mtcars.gear,mtcars.cyl).plot(kind=\"bar\")"
      ],
      "execution_count": null,
      "outputs": []
    },
    {
      "cell_type": "code",
      "metadata": {
        "id": "E0Ve7ecYnZ4z"
      },
      "source": [
        "mtcars[\"gear\"].value_counts()\n",
        "mtcars.gear.value_counts().plot(kind=\"pie\")"
      ],
      "execution_count": null,
      "outputs": []
    },
    {
      "cell_type": "code",
      "metadata": {
        "id": "nS4W0mSPnZ46"
      },
      "source": [
        "plt.scatter(mtcars.mpg,mtcars.qsec)## scatter plot of two variables"
      ],
      "execution_count": null,
      "outputs": []
    },
    {
      "cell_type": "code",
      "metadata": {
        "id": "KE7H-SkvnZ48"
      },
      "source": [
        "# Graphical Representation of data\n",
        "#import matplotlib.pyplot as plt\n",
        "# Histogram\n",
        "plt.hist(mtcars['mpg']) "
      ],
      "execution_count": null,
      "outputs": []
    },
    {
      "cell_type": "code",
      "metadata": {
        "id": "Gfr6Zby0nZ4-"
      },
      "source": [
        "plt.hist(mtcars['mpg'],facecolor =\"peru\",edgecolor =\"blue\",bins =5)\n",
        "#creates histogram with 5bins and colours filled init."
      ],
      "execution_count": null,
      "outputs": []
    },
    {
      "cell_type": "code",
      "metadata": {
        "id": "dwztDftYnZ5A"
      },
      "source": [
        "#Boxplot\n",
        "#help(plt.boxplot)\n",
        "plt.boxplot(mtcars['mpg'],vert = True)\n",
        "plt.show()"
      ],
      "execution_count": null,
      "outputs": []
    },
    {
      "cell_type": "code",
      "metadata": {
        "id": "4IfbGudInZ5C"
      },
      "source": [
        "plt.boxplot(mtcars['mpg'],vert =False);plt.ylabel(\"MPG\");plt.xlabel(\"Boxplot\");plt.title(\"Boxplot\")  # for vertical"
      ],
      "execution_count": null,
      "outputs": []
    },
    {
      "cell_type": "code",
      "metadata": {
        "id": "O0IuI0DInZ5E"
      },
      "source": [
        "#Violin Plot\n",
        "#help(plt.violinplot)\n",
        "plt.violinplot(mtcars[\"mpg\"])"
      ],
      "execution_count": null,
      "outputs": []
    },
    {
      "cell_type": "markdown",
      "metadata": {
        "id": "cBaipI82nZ5c"
      },
      "source": [
        "# seaborn"
      ]
    },
    {
      "cell_type": "code",
      "metadata": {
        "id": "pCovzCbonZ5c"
      },
      "source": [
        "import pandas as pd\n",
        "import matplotlib.pyplot as plt\n",
        "import seaborn as sns"
      ],
      "execution_count": null,
      "outputs": []
    },
    {
      "cell_type": "code",
      "metadata": {
        "id": "NFEw7V20nZ5e"
      },
      "source": [
        "tips =sns.load_dataset('tips')"
      ],
      "execution_count": null,
      "outputs": []
    },
    {
      "cell_type": "code",
      "metadata": {
        "id": "uvW-2Yy9nZ5g"
      },
      "source": [
        "tips"
      ],
      "execution_count": null,
      "outputs": []
    },
    {
      "cell_type": "markdown",
      "metadata": {
        "id": "gwepy3MJnZ5q"
      },
      "source": [
        "## Univariate → “one variable” data visualization"
      ]
    },
    {
      "cell_type": "code",
      "metadata": {
        "id": "9yvW6r-FnZ5q"
      },
      "source": [
        "#strip plot\n",
        "\n",
        "sns.stripplot(y= 'tip', data=tips,jitter=True)\n",
        "plt.ylabel('tip ($)')\n",
        "plt.show()"
      ],
      "execution_count": null,
      "outputs": []
    },
    {
      "cell_type": "code",
      "metadata": {
        "id": "naml9-dqnZ5t"
      },
      "source": [
        "#Grouping with stripplot()\n",
        "sns.stripplot(x='day', y='tip', data=tips)\n",
        "plt.ylabel('tip ($)')\n",
        "plt.show()"
      ],
      "execution_count": null,
      "outputs": []
    },
    {
      "cell_type": "code",
      "metadata": {
        "id": "59nZsoX2nZ5v"
      },
      "source": [
        "sns.stripplot(x='day', y='tip', data=tips, size=4,jitter=False)\n",
        "plt.ylabel('tip ($)')\n",
        "plt.show()"
      ],
      "execution_count": null,
      "outputs": []
    },
    {
      "cell_type": "code",
      "metadata": {
        "id": "qRhuTDd4nZ5x"
      },
      "source": [
        "#Swarm plot\n",
        "\n",
        "sns.swarmplot(x='day', y='tip', data=tips)\n",
        "plt.ylabel('tip ($)')\n",
        "plt.show()\n",
        "    "
      ],
      "execution_count": null,
      "outputs": []
    },
    {
      "cell_type": "code",
      "metadata": {
        "id": "G6g9dEhtnZ50"
      },
      "source": [
        "sns.swarmplot(x='day', y='tip', data=tips, hue='sex')\n",
        "plt.ylabel('tip ($)')\n",
        "plt.show()"
      ],
      "execution_count": null,
      "outputs": []
    },
    {
      "cell_type": "code",
      "metadata": {
        "id": "GTGvh_HNnZ52"
      },
      "source": [
        "#Changing orientation\n",
        "sns.swarmplot(x='tip', y='day', data=tips, hue='sex',orient='h')\n",
        "plt.xlabel('tip ($)')\n",
        "plt.show()"
      ],
      "execution_count": null,
      "outputs": []
    },
    {
      "cell_type": "markdown",
      "metadata": {
        "id": "BDnEr2d-nZ54"
      },
      "source": [
        "### Box and Violin plot"
      ]
    },
    {
      "cell_type": "code",
      "metadata": {
        "id": "81HzwK2vnZ54"
      },
      "source": [
        "#plt.subplot(1,2,1)\n",
        "sns.boxplot(x='day', y='tip', data=tips)\n",
        "plt.ylabel('tip ($)')\n"
      ],
      "execution_count": null,
      "outputs": []
    },
    {
      "cell_type": "code",
      "metadata": {
        "id": "ExShL4IfnZ56"
      },
      "source": [
        "#plt.subplot(1,2,2)\n",
        "sns.violinplot(x='day', y='tip', data=tips)\n",
        "plt.ylabel('tip ($)')\n",
        "\n",
        "plt.show()"
      ],
      "execution_count": null,
      "outputs": []
    },
    {
      "cell_type": "code",
      "metadata": {
        "id": "5vIAo13FnZ58"
      },
      "source": [
        "plt.subplot(1,2,1)\n",
        "sns.boxplot(x='day', y='tip', data=tips)\n",
        "plt.ylabel('tip ($)')\n",
        "plt.subplot(1,2,2)\n",
        "sns.violinplot(x='day', y='tip', data=tips)\n",
        "plt.ylabel('tip ($)')\n",
        "\n",
        "plt.show()"
      ],
      "execution_count": null,
      "outputs": []
    },
    {
      "cell_type": "code",
      "metadata": {
        "id": "NIvIm3o2nZ5-"
      },
      "source": [
        "##Combining plots\n",
        "\n",
        "sns.violinplot(x='day', y='tip', data=tips, inner=None,color='lightgray')\n",
        "sns.stripplot(x='day', y='tip', data=tips, size=4,jitter=True)\n",
        "plt.ylabel('tip ($)')\n",
        "plt.show()"
      ],
      "execution_count": null,
      "outputs": []
    },
    {
      "cell_type": "markdown",
      "metadata": {
        "id": "eotqlD1onZ6C"
      },
      "source": [
        "## Bivariate → “two variables” data visualization"
      ]
    },
    {
      "cell_type": "code",
      "metadata": {
        "id": "5vMcvzBxnZ6C"
      },
      "source": [
        "#Joint plot\n",
        "\n",
        "sns.jointplot(x= 'total_bill', y= 'tip', data=tips)\n",
        "plt.show()"
      ],
      "execution_count": null,
      "outputs": []
    },
    {
      "cell_type": "code",
      "metadata": {
        "id": "W0-CzUmknZ6D"
      },
      "source": [
        "# Density plot\n",
        "sns.jointplot(x='total_bill', y= 'tip', data=tips,kind='kde')\n",
        "plt.show()"
      ],
      "execution_count": null,
      "outputs": []
    },
    {
      "cell_type": "code",
      "metadata": {
        "id": "GeCxIRyBnZ6J"
      },
      "source": [
        "#Pair plot\n",
        "\n",
        "sns.pairplot(tips)\n",
        "plt.show()"
      ],
      "execution_count": null,
      "outputs": []
    },
    {
      "cell_type": "code",
      "metadata": {
        "id": "oqIXUZjGnZ6M"
      },
      "source": [
        "sns.pairplot(tips, hue='sex')\n",
        "plt.show()"
      ],
      "execution_count": null,
      "outputs": []
    },
    {
      "cell_type": "markdown",
      "metadata": {
        "id": "Vq_D038GnZ6W"
      },
      "source": [
        "# Titanic data visualization"
      ]
    },
    {
      "cell_type": "code",
      "metadata": {
        "_uuid": "6785d87b77ba61ff565188b5dc3ff1018d21afdd",
        "id": "FSUht7uinZ6W"
      },
      "source": [
        "import numpy as np\n",
        "import pandas as pd\n",
        "import matplotlib.pyplot as plt\n",
        "import seaborn as sns\n",
        "%matplotlib inline\n",
        "\n",
        "import warnings\n",
        "warnings.filterwarnings(\"ignore\")\n",
        "\n"
      ],
      "execution_count": null,
      "outputs": []
    },
    {
      "cell_type": "markdown",
      "metadata": {
        "_uuid": "f1be92a3a9aa56e98c310aa603a954e87a97b0bc",
        "id": "rMTdpD_rnZ6a"
      },
      "source": [
        "### Loading dataset"
      ]
    },
    {
      "cell_type": "code",
      "metadata": {
        "_uuid": "6f7691827054359855b6801206e884f7dd1a0b34",
        "id": "k6LP9bQAnZ6a"
      },
      "source": [
        "data = pd.read_csv(\"/Users/srinivasgurrala/Downloads/train.csv\")\n",
        "data.head()"
      ],
      "execution_count": null,
      "outputs": []
    },
    {
      "cell_type": "markdown",
      "metadata": {
        "id": "Q4Q77V2CnZ6d"
      },
      "source": [
        "\n",
        "#survival - Survival (0 = No; 1 = Yes)\n",
        "class - Passenger Class (1 = 1st; 2 = 2nd; 3 = 3rd)\n",
        "name - Name\n",
        "sex - Sex\n",
        "age - Age\n",
        "sibsp - Number of Siblings/Spouses Aboard\n",
        "parch - Number of Parents/Children Aboard\n",
        "ticket - Ticket Number\n",
        "fare - Passenger Fare\n",
        "cabin - Cabin\n",
        "embarked - Port of Embarkation (C = Cherbourg; Q = Queenstown; S = Southampton)"
      ]
    },
    {
      "cell_type": "markdown",
      "metadata": {
        "_uuid": "3abc8af913a55dac3549fca3162613ebf7a34954",
        "id": "WRqd85_snZ6d"
      },
      "source": [
        "### Data types"
      ]
    },
    {
      "cell_type": "code",
      "metadata": {
        "_uuid": "9db84b957e1d5ce4d9113eea6fb854021486edb1",
        "id": "2cnKVMyBnZ6d"
      },
      "source": [
        "print(data.dtypes)"
      ],
      "execution_count": null,
      "outputs": []
    },
    {
      "cell_type": "markdown",
      "metadata": {
        "_uuid": "83e5bb463ae71370cc8ea8eb90c9ea41012b9887",
        "id": "_WVg9ZewnZ6h"
      },
      "source": [
        "### Proportion of target (Survived)"
      ]
    },
    {
      "cell_type": "code",
      "metadata": {
        "_uuid": "575291c275e3a14c7a511125d8878b2de0ee5fe0",
        "id": "vaVuFgnDnZ6h"
      },
      "source": [
        "data.groupby('Survived')['PassengerId'].count()"
      ],
      "execution_count": null,
      "outputs": []
    },
    {
      "cell_type": "markdown",
      "metadata": {
        "_uuid": "caddeddbf8403ef11f872621ed80c536bcb6c78a",
        "id": "NoV7ltEonZ6k"
      },
      "source": [
        "### Visual Exploration"
      ]
    },
    {
      "cell_type": "code",
      "metadata": {
        "_uuid": "5692bc4d0a3c324588a4ade61e77c22957bb89fe",
        "id": "knNdLJFDnZ6k"
      },
      "source": [
        "f, ax = plt.subplots(figsize=(11,5))\n",
        "sns.boxplot(x='Survived', y=\"Age\",  data=data);"
      ],
      "execution_count": null,
      "outputs": []
    },
    {
      "cell_type": "code",
      "metadata": {
        "_uuid": "72a1723fcbb75647f62d3af01e15037cfd3b6387",
        "id": "gS1h-98anZ6o"
      },
      "source": [
        "f, ax = plt.subplots(figsize=(10,8))\n",
        "sns.barplot(x='Sex', y=\"Survived\",  data=data);"
      ],
      "execution_count": null,
      "outputs": []
    },
    {
      "cell_type": "code",
      "metadata": {
        "_uuid": "b60b9de0f951faf43a4ca3efb5f843e687f169ff",
        "id": "ENLO8hInnZ6s"
      },
      "source": [
        "f, ax = plt.subplots(figsize=(11,5))\n",
        "sns.boxplot(x=\"Sex\", y=\"Age\", hue=\"Survived\", data=data);"
      ],
      "execution_count": null,
      "outputs": []
    },
    {
      "cell_type": "code",
      "metadata": {
        "_uuid": "b90d13e9e013e5eb6e75c68f7a9b42695cfe1014",
        "id": "fZBniDtVnZ6v"
      },
      "source": [
        "sns.barplot(x=\"Pclass\", y=\"Survived\", data=data);"
      ],
      "execution_count": null,
      "outputs": []
    },
    {
      "cell_type": "code",
      "metadata": {
        "_uuid": "31241c7cec7d98bb2c0f46dba0546f4574e0f409",
        "id": "Ha8S0yRmnZ6x"
      },
      "source": [
        "sns.barplot(x=\"Pclass\", y=\"Survived\",hue=\"Sex\", data=data);"
      ],
      "execution_count": null,
      "outputs": []
    },
    {
      "cell_type": "code",
      "metadata": {
        "_uuid": "77f976d69f39ccc4c9ae48fc5cb05b37eb360143",
        "id": "1obKiMi1nZ60"
      },
      "source": [
        "sns.barplot(x=\"SibSp\", y=\"Survived\", data=data);"
      ],
      "execution_count": null,
      "outputs": []
    },
    {
      "cell_type": "code",
      "metadata": {
        "_uuid": "c525f8f35729055e759365c278f00c62ee3bae69",
        "id": "uHDFzlftnZ64"
      },
      "source": [
        "sns.barplot(x=\"Parch\", y=\"Survived\", data=data);"
      ],
      "execution_count": null,
      "outputs": []
    },
    {
      "cell_type": "code",
      "metadata": {
        "_uuid": "891e6dc073cdc89f292d00acabd57bc3c71c4a34",
        "id": "t7uaLYVLnZ6-"
      },
      "source": [
        "survived = data.loc[data['Survived']==1,\"Age\"].dropna()\n",
        "sns.distplot(survived)\n",
        "plt.title(\"Survived\");"
      ],
      "execution_count": null,
      "outputs": []
    },
    {
      "cell_type": "code",
      "metadata": {
        "_uuid": "d8e6cb4fd3dd829b60fd1ece0e447557e16a5ef6",
        "id": "iGuMwxQvnZ7A"
      },
      "source": [
        "not_survived = data.loc[data['Survived']==0,\"Age\"].dropna()\n",
        "sns.distplot(not_survived)\n",
        "plt.title(\"Not Survived\");"
      ],
      "execution_count": null,
      "outputs": []
    },
    {
      "cell_type": "code",
      "metadata": {
        "_uuid": "2ce74e90143466e7605639121e0deb18b272bad9",
        "id": "4EI5WN0wnZ7D"
      },
      "source": [
        "sns.pairplot(data.dropna());"
      ],
      "execution_count": null,
      "outputs": []
    },
    {
      "cell_type": "code",
      "metadata": {
        "id": "aDhXA4gsnZ7F"
      },
      "source": [
        "# Pclass vs Survive\n",
        "grid = sns.FacetGrid(data, col='Survived', row='Pclass', size=2.4, aspect=1.5)\n",
        "grid.map(plt.hist, 'Age', alpha=.5, bins=20)\n",
        "grid.add_legend()"
      ],
      "execution_count": null,
      "outputs": []
    },
    {
      "cell_type": "code",
      "metadata": {
        "id": "gFT6dx2fnZ7O"
      },
      "source": [
        "\n",
        "sns.distplot(a=data[data['Embarked']=='C']['Survived'],bins=3,kde=False)\n",
        "plt.title(\"Cherbourg\")\n",
        "plt.xticks([0,1])\n",
        "plt.show()\n",
        "plt.title(\"QueensTown\")\n",
        "sns.distplot(a=data[data['Embarked']=='Q']['Survived'],bins=3,kde=False)\n",
        "plt.xticks([0,1])\n",
        "\n",
        "plt.show()\n",
        "plt.title(\"Southampton\")\n",
        "sns.distplot(a=data[data['Embarked']=='S']['Survived'],bins=3,kde=False)\n",
        "plt.xticks([0,1])\n",
        "\n",
        "plt.show()\n",
        "#Most of the Passengers embarked from Southampton"
      ],
      "execution_count": null,
      "outputs": []
    },
    {
      "cell_type": "code",
      "metadata": {
        "id": "mzPbOcW7nZ7T",
        "scrolled": true
      },
      "source": [
        "figbi, axesbi = plt.subplots(2, 4, figsize=(16, 10))\n",
        "data.groupby('Pclass')['Survived'].mean().plot(kind='barh',ax=axesbi[0,0],xlim=[0,1])\n",
        "data.groupby('SibSp')['Survived'].mean().plot(kind='barh',ax=axesbi[0,1],xlim=[0,1])\n",
        "data.groupby('Parch')['Survived'].mean().plot(kind='barh',ax=axesbi[0,2],xlim=[0,1])\n",
        "data.groupby('Sex')['Survived'].mean().plot(kind='barh',ax=axesbi[0,3],xlim=[0,1])\n",
        "data.groupby('Embarked')['Survived'].mean().plot(kind='barh',ax=axesbi[1,0],xlim=[0,1])\n",
        "sns.boxplot(x=\"Survived\", y=\"Age\", data=data,ax=axesbi[1,1])\n",
        "sns.boxplot(x=\"Survived\", y=\"Fare\", data=data,ax=axesbi[1,2])"
      ],
      "execution_count": null,
      "outputs": []
    },
    {
      "cell_type": "code",
      "metadata": {
        "id": "PPTdAiBvnZ7V"
      },
      "source": [
        ""
      ],
      "execution_count": null,
      "outputs": []
    }
  ]
}
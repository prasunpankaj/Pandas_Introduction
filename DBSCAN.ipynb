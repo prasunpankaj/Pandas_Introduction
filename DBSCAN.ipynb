{
  "nbformat": 4,
  "nbformat_minor": 0,
  "metadata": {
    "_draft": {
      "nbviewer_url": "https://gist.github.com/a3684572cf5029186abeb1bbd17a0f5e"
    },
    "gist": {
      "data": {
        "description": "DBSCAN.ipynb",
        "public": true
      },
      "id": "a3684572cf5029186abeb1bbd17a0f5e"
    },
    "kernelspec": {
      "display_name": "Python 3",
      "language": "python",
      "name": "python3"
    },
    "language_info": {
      "codemirror_mode": {
        "name": "ipython",
        "version": 3
      },
      "file_extension": ".py",
      "mimetype": "text/x-python",
      "name": "python",
      "nbconvert_exporter": "python",
      "pygments_lexer": "ipython3",
      "version": "3.7.4"
    },
    "colab": {
      "name": "DBSCAN.ipynb",
      "provenance": []
    }
  },
  "cells": [
    {
      "cell_type": "code",
      "metadata": {
        "id": "MPGZLzk0zxos"
      },
      "source": [
        "#Import the libraries\n",
        "from sklearn.cluster import DBSCAN\n",
        "from sklearn.preprocessing import StandardScaler\n",
        "import numpy as np\n",
        "import pandas as pd\n",
        "import matplotlib.pyplot as plt"
      ],
      "execution_count": null,
      "outputs": []
    },
    {
      "cell_type": "code",
      "metadata": {
        "id": "O9A2_57pzxoy"
      },
      "source": [
        "# Import .csv file and convert it to a DataFrame object\n",
        "df = pd.read_csv(\"Wholesale customers data.csv\");\n",
        "\n",
        "print(df.head())\n"
      ],
      "execution_count": null,
      "outputs": []
    },
    {
      "cell_type": "code",
      "metadata": {
        "id": "6dkCOgH6zxo4"
      },
      "source": [
        "print(df.info())"
      ],
      "execution_count": null,
      "outputs": []
    },
    {
      "cell_type": "code",
      "metadata": {
        "id": "4A6AiCBTzxo-"
      },
      "source": [
        "df.drop(['Channel','Region'],axis=1,inplace=True)"
      ],
      "execution_count": null,
      "outputs": []
    },
    {
      "cell_type": "code",
      "metadata": {
        "id": "WAS-EzHDzxpC"
      },
      "source": [
        "array=df.values"
      ],
      "execution_count": null,
      "outputs": []
    },
    {
      "cell_type": "code",
      "metadata": {
        "id": "Q0tGqAL1zxpI"
      },
      "source": [
        "array"
      ],
      "execution_count": null,
      "outputs": []
    },
    {
      "cell_type": "code",
      "metadata": {
        "id": "LAqb5c8zzxpM"
      },
      "source": [
        "stscaler = StandardScaler().fit(array)\n",
        "X = stscaler.transform(array)"
      ],
      "execution_count": null,
      "outputs": []
    },
    {
      "cell_type": "code",
      "metadata": {
        "id": "m4oX4NN4zxpQ"
      },
      "source": [
        "X"
      ],
      "execution_count": null,
      "outputs": []
    },
    {
      "cell_type": "code",
      "metadata": {
        "id": "brIqboCxzxpb"
      },
      "source": [
        "dbscan = DBSCAN(eps=1.8, min_samples=6)\n",
        "dbscan.fit(X)"
      ],
      "execution_count": null,
      "outputs": []
    },
    {
      "cell_type": "code",
      "metadata": {
        "id": "je4DF4YEzxph"
      },
      "source": [
        "#Noisy samples are given the label -1.\n",
        "dbscan.labels_"
      ],
      "execution_count": null,
      "outputs": []
    },
    {
      "cell_type": "code",
      "metadata": {
        "id": "gswh4Xkgzxpl"
      },
      "source": [
        "cl=pd.DataFrame(dbscan.labels_,columns=['cluster'])"
      ],
      "execution_count": null,
      "outputs": []
    },
    {
      "cell_type": "code",
      "metadata": {
        "id": "j4ywliEvzxpp"
      },
      "source": [
        "cl"
      ],
      "execution_count": null,
      "outputs": []
    },
    {
      "cell_type": "code",
      "metadata": {
        "id": "gstUNSmTzxpu"
      },
      "source": [
        "pd.concat([df,cl],axis=1)"
      ],
      "execution_count": null,
      "outputs": []
    },
    {
      "cell_type": "code",
      "metadata": {
        "id": "dvTcEC6lD_O-"
      },
      "source": [
        ""
      ],
      "execution_count": null,
      "outputs": []
    }
  ]
}